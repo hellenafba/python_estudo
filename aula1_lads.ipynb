{
  "cells": [
    {
      "cell_type": "markdown",
      "metadata": {
        "id": "view-in-github",
        "colab_type": "text"
      },
      "source": [
        "<a href=\"https://colab.research.google.com/github/hellenafba/python_estudo/blob/main/aula1_lads.ipynb\" target=\"_parent\"><img src=\"https://colab.research.google.com/assets/colab-badge.svg\" alt=\"Open In Colab\"/></a>"
      ]
    },
    {
      "cell_type": "markdown",
      "id": "c55f18e7-6ef9-4d4b-9952-a470e9f9c6ca",
      "metadata": {
        "id": "c55f18e7-6ef9-4d4b-9952-a470e9f9c6ca"
      },
      "source": [
        "## 1️⃣ Análise Exploratória de Dados (EDA)\n",
        "\n",
        "### 💡 Conceito\n",
        "**EDA (Exploratory Data Analysis)** é o processo de explorar e resumir dados para extrair informações úteis. É usado por cientistas de dados para analisar e investigar conjuntos de dados e resumir suas principais características.\n"
      ]
    },
    {
      "cell_type": "code",
      "execution_count": 1,
      "id": "b7619541-18ec-4365-9e72-e0ef8551e827",
      "metadata": {
        "id": "b7619541-18ec-4365-9e72-e0ef8551e827"
      },
      "outputs": [],
      "source": [
        "import pandas as pd\n",
        "import numpy as np"
      ]
    },
    {
      "cell_type": "code",
      "execution_count": 4,
      "id": "97dd4db7-526d-495b-8a82-2abc78fe3a2e",
      "metadata": {
        "colab": {
          "base_uri": "https://localhost:8080/"
        },
        "id": "97dd4db7-526d-495b-8a82-2abc78fe3a2e",
        "outputId": "3914e6b9-439e-4a60-b696-38b62ce63339"
      },
      "outputs": [
        {
          "output_type": "stream",
          "name": "stdout",
          "text": [
            "Dados das notas dos alunos: [85, 90, 78, 92, 88, 76, 94, 82, 89, 91]\n",
            "Média das notas: 86.50\n",
            "Maior nota: 94\n",
            "Menor nota: 76\n",
            "Mediana das notas: 88.50\n"
          ]
        }
      ],
      "source": [
        "# Exemplo simples de EDA\n",
        "notas = [85, 90, 78, 92, 88, 76, 94, 82, 89, 91]\n",
        "notas_array = np.array(notas)\n",
        "\n",
        "print(f\"Dados das notas dos alunos: {notas}\")\n",
        "print(f\"Média das notas: {notas_array.mean():.2f}\")\n",
        "print(f\"Maior nota: {notas_array.max()}\")\n",
        "print(f\"Menor nota: {notas_array.min()}\")\n",
        "print(f\"Mediana das notas: {np.median(notas_array):.2f}\")"
      ]
    },
    {
      "cell_type": "markdown",
      "id": "bdfd0198-cb5e-46b3-91d5-493714935577",
      "metadata": {
        "id": "bdfd0198-cb5e-46b3-91d5-493714935577"
      },
      "source": [
        "### 🏋️ Exercício 1\n",
        "Complete o código abaixo para fazer uma EDA básica das vendas mensais:"
      ]
    },
    {
      "cell_type": "code",
      "execution_count": 16,
      "id": "d07c28a2-14cb-437c-866e-1ced4d38e09e",
      "metadata": {
        "colab": {
          "base_uri": "https://localhost:8080/"
        },
        "id": "d07c28a2-14cb-437c-866e-1ced4d38e09e",
        "outputId": "3196cb0f-6f19-4cd0-c9ca-5232f1b00f3b"
      },
      "outputs": [
        {
          "output_type": "stream",
          "name": "stdout",
          "text": [
            "Vendas mensais: [1200, 1450, 1100, 1600, 1350, 1250, 1400]\n",
            "Média de vendas: 1335.71\n",
            "Maior venda: 1600\n",
            "Mediana de vendas: 1350.0\n"
          ]
        }
      ],
      "source": [
        "vendas_mes = [1200, 1450, 1100, 1600, 1350, 1250, 1400]\n",
        "vendas_array = np.array(vendas_mes)\n",
        "\n",
        "# TODO: Calcule a média das vendas usando numpy\n",
        "media_vendas =  vendas_array.mean()\n",
        "\n",
        "# TODO: Encontre o mês com maior venda usando numpy\n",
        "maior_venda =  vendas_array.max()\n",
        "\n",
        "# TODO: Calcule a mediana usando numpy\n",
        "mediana_vendas =  np.median(vendas_array)\n",
        "\n",
        "print(f\"Vendas mensais: {vendas_mes}\")\n",
        "print(f\"Média de vendas: {media_vendas:.2f}\")\n",
        "print(f\"Maior venda: {maior_venda}\")\n",
        "print(f\"Mediana de vendas: {mediana_vendas}\")"
      ]
    },
    {
      "cell_type": "markdown",
      "id": "a99a6d8d-4e09-46ba-9f30-9afd7fe3099a",
      "metadata": {
        "id": "a99a6d8d-4e09-46ba-9f30-9afd7fe3099a"
      },
      "source": [
        "---\n",
        "\n",
        "## 2️⃣ Tipos de Dados\n",
        "\n",
        "### 💡 Conceito\n",
        "Os dados vêm de diversas fontes: sensores, eventos, textos, imagens e vídeos. Existem diferentes tipos de dados estruturados:\n",
        "\n",
        "- **Categóricos**: Conjunto específico de valores (cores, tipos)\n",
        "- **Discretos**: Apenas valores inteiros (contagens)\n",
        "- **Binários**: Apenas dois valores (0/1, True/False)\n",
        "- **Contínuos**: Qualquer valor em um intervalo (altura, peso)\n",
        "- **Ordinais**: Categóricos com ordem (avaliações 1-5)"
      ]
    },
    {
      "cell_type": "code",
      "execution_count": 6,
      "id": "3b6a8e76-2f39-4914-9554-c9c8d010f3ad",
      "metadata": {
        "colab": {
          "base_uri": "https://localhost:8080/"
        },
        "id": "3b6a8e76-2f39-4914-9554-c9c8d010f3ad",
        "outputId": "79be4216-04c1-41ed-d076-e6f587af615d"
      },
      "outputs": [
        {
          "output_type": "stream",
          "name": "stdout",
          "text": [
            "Categóricos (cores): ['azul', 'vermelho', 'verde', 'azul', 'amarelo']\n",
            "Discretos (número de filhos): [0, 2, 1, 3, 0, 1, 2]\n",
            "Binários (aprovado/reprovado): [True, False, True, True, False]\n",
            "Contínuos (alturas em metros): [1.75, 1.68, 1.82, 1.7, 1.65]\n",
            "Ordinais (avaliações): ['ruim', 'bom', 'excelente', 'regular', 'bom']\n"
          ]
        }
      ],
      "source": [
        "# Dados Categóricos\n",
        "cores = [\"azul\", \"vermelho\", \"verde\", \"azul\", \"amarelo\"]\n",
        "print(f\"Categóricos (cores): {cores}\")\n",
        "\n",
        "# Dados Discretos (contagens)\n",
        "num_filhos = [0, 2, 1, 3, 0, 1, 2]\n",
        "print(f\"Discretos (número de filhos): {num_filhos}\")\n",
        "\n",
        "# Dados Binários\n",
        "aprovado = [True, False, True, True, False]\n",
        "print(f\"Binários (aprovado/reprovado): {aprovado}\")\n",
        "\n",
        "# Dados Contínuos\n",
        "alturas = [1.75, 1.68, 1.82, 1.70, 1.65]\n",
        "print(f\"Contínuos (alturas em metros): {alturas}\")\n",
        "\n",
        "# Dados Ordinais\n",
        "avaliacoes = [\"ruim\", \"bom\", \"excelente\", \"regular\", \"bom\"]\n",
        "print(f\"Ordinais (avaliações): {avaliacoes}\")"
      ]
    },
    {
      "cell_type": "markdown",
      "id": "6c7ff2ce-a193-46a6-99ca-234b162c4e46",
      "metadata": {
        "id": "6c7ff2ce-a193-46a6-99ca-234b162c4e46"
      },
      "source": [
        "### 🏋️ Exercício 2\n",
        "Classifique os tipos de dados abaixo:"
      ]
    },
    {
      "cell_type": "code",
      "execution_count": 22,
      "id": "2fbf9ab2-da43-468a-a652-4ab7f2e03054",
      "metadata": {
        "colab": {
          "base_uri": "https://localhost:8080/"
        },
        "id": "2fbf9ab2-da43-468a-a652-4ab7f2e03054",
        "outputId": "5312e640-a04c-45ef-8224-320dec4d6d7d"
      },
      "outputs": [
        {
          "output_type": "stream",
          "name": "stdout",
          "text": [
            "a) Temperaturas são dados: contínuos\n",
            "b) Sexo são dados: categóricos\n",
            "c) Avaliação em estrelas são dados: ordinais\n",
            "d) Possui carro são dados:binários\n"
          ]
        }
      ],
      "source": [
        "dados_temperatura = [23.5, 25.1, 22.8, 26.3, 24.7]\n",
        "dados_sexo = [\"M\", \"F\", \"M\", \"F\", \"M\"]\n",
        "dados_estrelas = [1, 2, 3, 4, 5, 3, 4]\n",
        "dados_possui_carro = [True, False, True, False, True]\n",
        "\n",
        "print(\"a) Temperaturas são dados: contínuos\")\n",
        "print(\"b) Sexo são dados: categóricos\")\n",
        "print(\"c) Avaliação em estrelas são dados: ordinais\")\n",
        "print(\"d) Possui carro são dados:binários\")"
      ]
    },
    {
      "cell_type": "markdown",
      "id": "8bd5e3ee-0db2-428e-87ce-921cac48ca91",
      "metadata": {
        "id": "8bd5e3ee-0db2-428e-87ce-921cac48ca91"
      },
      "source": [
        "---\n",
        "\n",
        "## 3️⃣ Dados Retangulares\n",
        "\n",
        "### 💡 Conceito\n",
        "**Dados retangulares** são organizados em tabelas (linhas e colunas), como planilhas Excel. No Python pandas, usamos **DataFrames**.\n",
        "\n",
        "- Cada linha = uma observação\n",
        "- Cada coluna = uma variável"
      ]
    },
    {
      "cell_type": "code",
      "execution_count": 23,
      "id": "af173c04-299e-46fc-887a-da542edc9a20",
      "metadata": {
        "colab": {
          "base_uri": "https://localhost:8080/",
          "height": 224
        },
        "id": "af173c04-299e-46fc-887a-da542edc9a20",
        "outputId": "61253cbf-afde-4279-e7c8-c4716b060deb"
      },
      "outputs": [
        {
          "output_type": "stream",
          "name": "stdout",
          "text": [
            "📋 Exemplo de dados retangulares:\n"
          ]
        },
        {
          "output_type": "execute_result",
          "data": {
            "text/plain": [
              "    nome  idade  nota  aprovado\n",
              "0    Ana     20   8.5      True\n",
              "1   João     22   7.2      True\n",
              "2  Maria     21   9.1      True\n",
              "3  Pedro     23   6.8     False\n",
              "4  Carla     20   8.9      True"
            ],
            "text/html": [
              "\n",
              "  <div id=\"df-f17dad36-8330-41bd-8410-698ca15653d7\" class=\"colab-df-container\">\n",
              "    <div>\n",
              "<style scoped>\n",
              "    .dataframe tbody tr th:only-of-type {\n",
              "        vertical-align: middle;\n",
              "    }\n",
              "\n",
              "    .dataframe tbody tr th {\n",
              "        vertical-align: top;\n",
              "    }\n",
              "\n",
              "    .dataframe thead th {\n",
              "        text-align: right;\n",
              "    }\n",
              "</style>\n",
              "<table border=\"1\" class=\"dataframe\">\n",
              "  <thead>\n",
              "    <tr style=\"text-align: right;\">\n",
              "      <th></th>\n",
              "      <th>nome</th>\n",
              "      <th>idade</th>\n",
              "      <th>nota</th>\n",
              "      <th>aprovado</th>\n",
              "    </tr>\n",
              "  </thead>\n",
              "  <tbody>\n",
              "    <tr>\n",
              "      <th>0</th>\n",
              "      <td>Ana</td>\n",
              "      <td>20</td>\n",
              "      <td>8.5</td>\n",
              "      <td>True</td>\n",
              "    </tr>\n",
              "    <tr>\n",
              "      <th>1</th>\n",
              "      <td>João</td>\n",
              "      <td>22</td>\n",
              "      <td>7.2</td>\n",
              "      <td>True</td>\n",
              "    </tr>\n",
              "    <tr>\n",
              "      <th>2</th>\n",
              "      <td>Maria</td>\n",
              "      <td>21</td>\n",
              "      <td>9.1</td>\n",
              "      <td>True</td>\n",
              "    </tr>\n",
              "    <tr>\n",
              "      <th>3</th>\n",
              "      <td>Pedro</td>\n",
              "      <td>23</td>\n",
              "      <td>6.8</td>\n",
              "      <td>False</td>\n",
              "    </tr>\n",
              "    <tr>\n",
              "      <th>4</th>\n",
              "      <td>Carla</td>\n",
              "      <td>20</td>\n",
              "      <td>8.9</td>\n",
              "      <td>True</td>\n",
              "    </tr>\n",
              "  </tbody>\n",
              "</table>\n",
              "</div>\n",
              "    <div class=\"colab-df-buttons\">\n",
              "\n",
              "  <div class=\"colab-df-container\">\n",
              "    <button class=\"colab-df-convert\" onclick=\"convertToInteractive('df-f17dad36-8330-41bd-8410-698ca15653d7')\"\n",
              "            title=\"Convert this dataframe to an interactive table.\"\n",
              "            style=\"display:none;\">\n",
              "\n",
              "  <svg xmlns=\"http://www.w3.org/2000/svg\" height=\"24px\" viewBox=\"0 -960 960 960\">\n",
              "    <path d=\"M120-120v-720h720v720H120Zm60-500h600v-160H180v160Zm220 220h160v-160H400v160Zm0 220h160v-160H400v160ZM180-400h160v-160H180v160Zm440 0h160v-160H620v160ZM180-180h160v-160H180v160Zm440 0h160v-160H620v160Z\"/>\n",
              "  </svg>\n",
              "    </button>\n",
              "\n",
              "  <style>\n",
              "    .colab-df-container {\n",
              "      display:flex;\n",
              "      gap: 12px;\n",
              "    }\n",
              "\n",
              "    .colab-df-convert {\n",
              "      background-color: #E8F0FE;\n",
              "      border: none;\n",
              "      border-radius: 50%;\n",
              "      cursor: pointer;\n",
              "      display: none;\n",
              "      fill: #1967D2;\n",
              "      height: 32px;\n",
              "      padding: 0 0 0 0;\n",
              "      width: 32px;\n",
              "    }\n",
              "\n",
              "    .colab-df-convert:hover {\n",
              "      background-color: #E2EBFA;\n",
              "      box-shadow: 0px 1px 2px rgba(60, 64, 67, 0.3), 0px 1px 3px 1px rgba(60, 64, 67, 0.15);\n",
              "      fill: #174EA6;\n",
              "    }\n",
              "\n",
              "    .colab-df-buttons div {\n",
              "      margin-bottom: 4px;\n",
              "    }\n",
              "\n",
              "    [theme=dark] .colab-df-convert {\n",
              "      background-color: #3B4455;\n",
              "      fill: #D2E3FC;\n",
              "    }\n",
              "\n",
              "    [theme=dark] .colab-df-convert:hover {\n",
              "      background-color: #434B5C;\n",
              "      box-shadow: 0px 1px 3px 1px rgba(0, 0, 0, 0.15);\n",
              "      filter: drop-shadow(0px 1px 2px rgba(0, 0, 0, 0.3));\n",
              "      fill: #FFFFFF;\n",
              "    }\n",
              "  </style>\n",
              "\n",
              "    <script>\n",
              "      const buttonEl =\n",
              "        document.querySelector('#df-f17dad36-8330-41bd-8410-698ca15653d7 button.colab-df-convert');\n",
              "      buttonEl.style.display =\n",
              "        google.colab.kernel.accessAllowed ? 'block' : 'none';\n",
              "\n",
              "      async function convertToInteractive(key) {\n",
              "        const element = document.querySelector('#df-f17dad36-8330-41bd-8410-698ca15653d7');\n",
              "        const dataTable =\n",
              "          await google.colab.kernel.invokeFunction('convertToInteractive',\n",
              "                                                    [key], {});\n",
              "        if (!dataTable) return;\n",
              "\n",
              "        const docLinkHtml = 'Like what you see? Visit the ' +\n",
              "          '<a target=\"_blank\" href=https://colab.research.google.com/notebooks/data_table.ipynb>data table notebook</a>'\n",
              "          + ' to learn more about interactive tables.';\n",
              "        element.innerHTML = '';\n",
              "        dataTable['output_type'] = 'display_data';\n",
              "        await google.colab.output.renderOutput(dataTable, element);\n",
              "        const docLink = document.createElement('div');\n",
              "        docLink.innerHTML = docLinkHtml;\n",
              "        element.appendChild(docLink);\n",
              "      }\n",
              "    </script>\n",
              "  </div>\n",
              "\n",
              "\n",
              "    <div id=\"df-7fc2f1f7-6f04-42ae-9ef9-9e72bf637b3d\">\n",
              "      <button class=\"colab-df-quickchart\" onclick=\"quickchart('df-7fc2f1f7-6f04-42ae-9ef9-9e72bf637b3d')\"\n",
              "                title=\"Suggest charts\"\n",
              "                style=\"display:none;\">\n",
              "\n",
              "<svg xmlns=\"http://www.w3.org/2000/svg\" height=\"24px\"viewBox=\"0 0 24 24\"\n",
              "     width=\"24px\">\n",
              "    <g>\n",
              "        <path d=\"M19 3H5c-1.1 0-2 .9-2 2v14c0 1.1.9 2 2 2h14c1.1 0 2-.9 2-2V5c0-1.1-.9-2-2-2zM9 17H7v-7h2v7zm4 0h-2V7h2v10zm4 0h-2v-4h2v4z\"/>\n",
              "    </g>\n",
              "</svg>\n",
              "      </button>\n",
              "\n",
              "<style>\n",
              "  .colab-df-quickchart {\n",
              "      --bg-color: #E8F0FE;\n",
              "      --fill-color: #1967D2;\n",
              "      --hover-bg-color: #E2EBFA;\n",
              "      --hover-fill-color: #174EA6;\n",
              "      --disabled-fill-color: #AAA;\n",
              "      --disabled-bg-color: #DDD;\n",
              "  }\n",
              "\n",
              "  [theme=dark] .colab-df-quickchart {\n",
              "      --bg-color: #3B4455;\n",
              "      --fill-color: #D2E3FC;\n",
              "      --hover-bg-color: #434B5C;\n",
              "      --hover-fill-color: #FFFFFF;\n",
              "      --disabled-bg-color: #3B4455;\n",
              "      --disabled-fill-color: #666;\n",
              "  }\n",
              "\n",
              "  .colab-df-quickchart {\n",
              "    background-color: var(--bg-color);\n",
              "    border: none;\n",
              "    border-radius: 50%;\n",
              "    cursor: pointer;\n",
              "    display: none;\n",
              "    fill: var(--fill-color);\n",
              "    height: 32px;\n",
              "    padding: 0;\n",
              "    width: 32px;\n",
              "  }\n",
              "\n",
              "  .colab-df-quickchart:hover {\n",
              "    background-color: var(--hover-bg-color);\n",
              "    box-shadow: 0 1px 2px rgba(60, 64, 67, 0.3), 0 1px 3px 1px rgba(60, 64, 67, 0.15);\n",
              "    fill: var(--button-hover-fill-color);\n",
              "  }\n",
              "\n",
              "  .colab-df-quickchart-complete:disabled,\n",
              "  .colab-df-quickchart-complete:disabled:hover {\n",
              "    background-color: var(--disabled-bg-color);\n",
              "    fill: var(--disabled-fill-color);\n",
              "    box-shadow: none;\n",
              "  }\n",
              "\n",
              "  .colab-df-spinner {\n",
              "    border: 2px solid var(--fill-color);\n",
              "    border-color: transparent;\n",
              "    border-bottom-color: var(--fill-color);\n",
              "    animation:\n",
              "      spin 1s steps(1) infinite;\n",
              "  }\n",
              "\n",
              "  @keyframes spin {\n",
              "    0% {\n",
              "      border-color: transparent;\n",
              "      border-bottom-color: var(--fill-color);\n",
              "      border-left-color: var(--fill-color);\n",
              "    }\n",
              "    20% {\n",
              "      border-color: transparent;\n",
              "      border-left-color: var(--fill-color);\n",
              "      border-top-color: var(--fill-color);\n",
              "    }\n",
              "    30% {\n",
              "      border-color: transparent;\n",
              "      border-left-color: var(--fill-color);\n",
              "      border-top-color: var(--fill-color);\n",
              "      border-right-color: var(--fill-color);\n",
              "    }\n",
              "    40% {\n",
              "      border-color: transparent;\n",
              "      border-right-color: var(--fill-color);\n",
              "      border-top-color: var(--fill-color);\n",
              "    }\n",
              "    60% {\n",
              "      border-color: transparent;\n",
              "      border-right-color: var(--fill-color);\n",
              "    }\n",
              "    80% {\n",
              "      border-color: transparent;\n",
              "      border-right-color: var(--fill-color);\n",
              "      border-bottom-color: var(--fill-color);\n",
              "    }\n",
              "    90% {\n",
              "      border-color: transparent;\n",
              "      border-bottom-color: var(--fill-color);\n",
              "    }\n",
              "  }\n",
              "</style>\n",
              "\n",
              "      <script>\n",
              "        async function quickchart(key) {\n",
              "          const quickchartButtonEl =\n",
              "            document.querySelector('#' + key + ' button');\n",
              "          quickchartButtonEl.disabled = true;  // To prevent multiple clicks.\n",
              "          quickchartButtonEl.classList.add('colab-df-spinner');\n",
              "          try {\n",
              "            const charts = await google.colab.kernel.invokeFunction(\n",
              "                'suggestCharts', [key], {});\n",
              "          } catch (error) {\n",
              "            console.error('Error during call to suggestCharts:', error);\n",
              "          }\n",
              "          quickchartButtonEl.classList.remove('colab-df-spinner');\n",
              "          quickchartButtonEl.classList.add('colab-df-quickchart-complete');\n",
              "        }\n",
              "        (() => {\n",
              "          let quickchartButtonEl =\n",
              "            document.querySelector('#df-7fc2f1f7-6f04-42ae-9ef9-9e72bf637b3d button');\n",
              "          quickchartButtonEl.style.display =\n",
              "            google.colab.kernel.accessAllowed ? 'block' : 'none';\n",
              "        })();\n",
              "      </script>\n",
              "    </div>\n",
              "\n",
              "  <div id=\"id_29a525ea-4003-4719-aff3-fd22f40dafe0\">\n",
              "    <style>\n",
              "      .colab-df-generate {\n",
              "        background-color: #E8F0FE;\n",
              "        border: none;\n",
              "        border-radius: 50%;\n",
              "        cursor: pointer;\n",
              "        display: none;\n",
              "        fill: #1967D2;\n",
              "        height: 32px;\n",
              "        padding: 0 0 0 0;\n",
              "        width: 32px;\n",
              "      }\n",
              "\n",
              "      .colab-df-generate:hover {\n",
              "        background-color: #E2EBFA;\n",
              "        box-shadow: 0px 1px 2px rgba(60, 64, 67, 0.3), 0px 1px 3px 1px rgba(60, 64, 67, 0.15);\n",
              "        fill: #174EA6;\n",
              "      }\n",
              "\n",
              "      [theme=dark] .colab-df-generate {\n",
              "        background-color: #3B4455;\n",
              "        fill: #D2E3FC;\n",
              "      }\n",
              "\n",
              "      [theme=dark] .colab-df-generate:hover {\n",
              "        background-color: #434B5C;\n",
              "        box-shadow: 0px 1px 3px 1px rgba(0, 0, 0, 0.15);\n",
              "        filter: drop-shadow(0px 1px 2px rgba(0, 0, 0, 0.3));\n",
              "        fill: #FFFFFF;\n",
              "      }\n",
              "    </style>\n",
              "    <button class=\"colab-df-generate\" onclick=\"generateWithVariable('df_estudantes')\"\n",
              "            title=\"Generate code using this dataframe.\"\n",
              "            style=\"display:none;\">\n",
              "\n",
              "  <svg xmlns=\"http://www.w3.org/2000/svg\" height=\"24px\"viewBox=\"0 0 24 24\"\n",
              "       width=\"24px\">\n",
              "    <path d=\"M7,19H8.4L18.45,9,17,7.55,7,17.6ZM5,21V16.75L18.45,3.32a2,2,0,0,1,2.83,0l1.4,1.43a1.91,1.91,0,0,1,.58,1.4,1.91,1.91,0,0,1-.58,1.4L9.25,21ZM18.45,9,17,7.55Zm-12,3A5.31,5.31,0,0,0,4.9,8.1,5.31,5.31,0,0,0,1,6.5,5.31,5.31,0,0,0,4.9,4.9,5.31,5.31,0,0,0,6.5,1,5.31,5.31,0,0,0,8.1,4.9,5.31,5.31,0,0,0,12,6.5,5.46,5.46,0,0,0,6.5,12Z\"/>\n",
              "  </svg>\n",
              "    </button>\n",
              "    <script>\n",
              "      (() => {\n",
              "      const buttonEl =\n",
              "        document.querySelector('#id_29a525ea-4003-4719-aff3-fd22f40dafe0 button.colab-df-generate');\n",
              "      buttonEl.style.display =\n",
              "        google.colab.kernel.accessAllowed ? 'block' : 'none';\n",
              "\n",
              "      buttonEl.onclick = () => {\n",
              "        google.colab.notebook.generateWithVariable('df_estudantes');\n",
              "      }\n",
              "      })();\n",
              "    </script>\n",
              "  </div>\n",
              "\n",
              "    </div>\n",
              "  </div>\n"
            ],
            "application/vnd.google.colaboratory.intrinsic+json": {
              "type": "dataframe",
              "variable_name": "df_estudantes",
              "summary": "{\n  \"name\": \"df_estudantes\",\n  \"rows\": 5,\n  \"fields\": [\n    {\n      \"column\": \"nome\",\n      \"properties\": {\n        \"dtype\": \"string\",\n        \"num_unique_values\": 5,\n        \"samples\": [\n          \"Jo\\u00e3o\",\n          \"Carla\",\n          \"Maria\"\n        ],\n        \"semantic_type\": \"\",\n        \"description\": \"\"\n      }\n    },\n    {\n      \"column\": \"idade\",\n      \"properties\": {\n        \"dtype\": \"number\",\n        \"std\": 1,\n        \"min\": 20,\n        \"max\": 23,\n        \"num_unique_values\": 4,\n        \"samples\": [\n          22,\n          23,\n          20\n        ],\n        \"semantic_type\": \"\",\n        \"description\": \"\"\n      }\n    },\n    {\n      \"column\": \"nota\",\n      \"properties\": {\n        \"dtype\": \"number\",\n        \"std\": 1.036822067666386,\n        \"min\": 6.8,\n        \"max\": 9.1,\n        \"num_unique_values\": 5,\n        \"samples\": [\n          7.2,\n          8.9,\n          9.1\n        ],\n        \"semantic_type\": \"\",\n        \"description\": \"\"\n      }\n    },\n    {\n      \"column\": \"aprovado\",\n      \"properties\": {\n        \"dtype\": \"boolean\",\n        \"num_unique_values\": 2,\n        \"samples\": [\n          false,\n          true\n        ],\n        \"semantic_type\": \"\",\n        \"description\": \"\"\n      }\n    }\n  ]\n}"
            }
          },
          "metadata": {},
          "execution_count": 23
        }
      ],
      "source": [
        "dados_estudantes = {\n",
        "    'nome': ['Ana', 'João', 'Maria', 'Pedro', 'Carla'],\n",
        "    'idade': [20, 22, 21, 23, 20],\n",
        "    'nota': [8.5, 7.2, 9.1, 6.8, 8.9],\n",
        "    'aprovado': [True, True, True, False, True]\n",
        "}\n",
        "\n",
        "df_estudantes = pd.DataFrame(dados_estudantes)\n",
        "print(\"📋 Exemplo de dados retangulares:\")\n",
        "df_estudantes"
      ]
    },
    {
      "cell_type": "code",
      "execution_count": 21,
      "id": "aac25d94-27d5-42f7-968b-9b7cb90aa203",
      "metadata": {
        "colab": {
          "base_uri": "https://localhost:8080/"
        },
        "id": "aac25d94-27d5-42f7-968b-9b7cb90aa203",
        "outputId": "fe2a7dd6-f6a7-418b-eee5-076059db9000"
      },
      "outputs": [
        {
          "output_type": "stream",
          "name": "stdout",
          "text": [
            "\n",
            "Forma dos dados: (5, 4) (linhas, colunas)\n",
            "Colunas: ['nome', 'idade', 'nota', 'aprovado']\n"
          ]
        }
      ],
      "source": [
        "print(f\"\\nForma dos dados: {df_estudantes.shape} (linhas, colunas)\")\n",
        "print(f\"Colunas: {list(df_estudantes.columns)}\")"
      ]
    },
    {
      "cell_type": "markdown",
      "id": "92ae5581-e86e-4afd-a916-f11ec5bea388",
      "metadata": {
        "id": "92ae5581-e86e-4afd-a916-f11ec5bea388"
      },
      "source": [
        "### 🏋️ Exercício 3\n",
        "Crie um DataFrame com dados de produtos:"
      ]
    },
    {
      "cell_type": "code",
      "execution_count": 26,
      "id": "32a8e4d9-6980-42e8-bfbd-4f32bd2ba00b",
      "metadata": {
        "colab": {
          "base_uri": "https://localhost:8080/",
          "height": 192
        },
        "id": "32a8e4d9-6980-42e8-bfbd-4f32bd2ba00b",
        "outputId": "9aed9da5-8fa1-41a3-e931-5e1506fa32d9"
      },
      "outputs": [
        {
          "output_type": "stream",
          "name": "stdout",
          "text": [
            "Tabela de produtos da loja:\n"
          ]
        },
        {
          "output_type": "execute_result",
          "data": {
            "text/plain": [
              "    produto  preco  categoria  em_estoque\n",
              "0  Notebook   2500          1        True\n",
              "1     Mouse     50          2       False\n",
              "2   Teclado    150          5       False\n",
              "3   Monitor    800          7        True"
            ],
            "text/html": [
              "\n",
              "  <div id=\"df-2ff87e5b-a6d0-448c-a7f5-6d67ca024cb6\" class=\"colab-df-container\">\n",
              "    <div>\n",
              "<style scoped>\n",
              "    .dataframe tbody tr th:only-of-type {\n",
              "        vertical-align: middle;\n",
              "    }\n",
              "\n",
              "    .dataframe tbody tr th {\n",
              "        vertical-align: top;\n",
              "    }\n",
              "\n",
              "    .dataframe thead th {\n",
              "        text-align: right;\n",
              "    }\n",
              "</style>\n",
              "<table border=\"1\" class=\"dataframe\">\n",
              "  <thead>\n",
              "    <tr style=\"text-align: right;\">\n",
              "      <th></th>\n",
              "      <th>produto</th>\n",
              "      <th>preco</th>\n",
              "      <th>categoria</th>\n",
              "      <th>em_estoque</th>\n",
              "    </tr>\n",
              "  </thead>\n",
              "  <tbody>\n",
              "    <tr>\n",
              "      <th>0</th>\n",
              "      <td>Notebook</td>\n",
              "      <td>2500</td>\n",
              "      <td>1</td>\n",
              "      <td>True</td>\n",
              "    </tr>\n",
              "    <tr>\n",
              "      <th>1</th>\n",
              "      <td>Mouse</td>\n",
              "      <td>50</td>\n",
              "      <td>2</td>\n",
              "      <td>False</td>\n",
              "    </tr>\n",
              "    <tr>\n",
              "      <th>2</th>\n",
              "      <td>Teclado</td>\n",
              "      <td>150</td>\n",
              "      <td>5</td>\n",
              "      <td>False</td>\n",
              "    </tr>\n",
              "    <tr>\n",
              "      <th>3</th>\n",
              "      <td>Monitor</td>\n",
              "      <td>800</td>\n",
              "      <td>7</td>\n",
              "      <td>True</td>\n",
              "    </tr>\n",
              "  </tbody>\n",
              "</table>\n",
              "</div>\n",
              "    <div class=\"colab-df-buttons\">\n",
              "\n",
              "  <div class=\"colab-df-container\">\n",
              "    <button class=\"colab-df-convert\" onclick=\"convertToInteractive('df-2ff87e5b-a6d0-448c-a7f5-6d67ca024cb6')\"\n",
              "            title=\"Convert this dataframe to an interactive table.\"\n",
              "            style=\"display:none;\">\n",
              "\n",
              "  <svg xmlns=\"http://www.w3.org/2000/svg\" height=\"24px\" viewBox=\"0 -960 960 960\">\n",
              "    <path d=\"M120-120v-720h720v720H120Zm60-500h600v-160H180v160Zm220 220h160v-160H400v160Zm0 220h160v-160H400v160ZM180-400h160v-160H180v160Zm440 0h160v-160H620v160ZM180-180h160v-160H180v160Zm440 0h160v-160H620v160Z\"/>\n",
              "  </svg>\n",
              "    </button>\n",
              "\n",
              "  <style>\n",
              "    .colab-df-container {\n",
              "      display:flex;\n",
              "      gap: 12px;\n",
              "    }\n",
              "\n",
              "    .colab-df-convert {\n",
              "      background-color: #E8F0FE;\n",
              "      border: none;\n",
              "      border-radius: 50%;\n",
              "      cursor: pointer;\n",
              "      display: none;\n",
              "      fill: #1967D2;\n",
              "      height: 32px;\n",
              "      padding: 0 0 0 0;\n",
              "      width: 32px;\n",
              "    }\n",
              "\n",
              "    .colab-df-convert:hover {\n",
              "      background-color: #E2EBFA;\n",
              "      box-shadow: 0px 1px 2px rgba(60, 64, 67, 0.3), 0px 1px 3px 1px rgba(60, 64, 67, 0.15);\n",
              "      fill: #174EA6;\n",
              "    }\n",
              "\n",
              "    .colab-df-buttons div {\n",
              "      margin-bottom: 4px;\n",
              "    }\n",
              "\n",
              "    [theme=dark] .colab-df-convert {\n",
              "      background-color: #3B4455;\n",
              "      fill: #D2E3FC;\n",
              "    }\n",
              "\n",
              "    [theme=dark] .colab-df-convert:hover {\n",
              "      background-color: #434B5C;\n",
              "      box-shadow: 0px 1px 3px 1px rgba(0, 0, 0, 0.15);\n",
              "      filter: drop-shadow(0px 1px 2px rgba(0, 0, 0, 0.3));\n",
              "      fill: #FFFFFF;\n",
              "    }\n",
              "  </style>\n",
              "\n",
              "    <script>\n",
              "      const buttonEl =\n",
              "        document.querySelector('#df-2ff87e5b-a6d0-448c-a7f5-6d67ca024cb6 button.colab-df-convert');\n",
              "      buttonEl.style.display =\n",
              "        google.colab.kernel.accessAllowed ? 'block' : 'none';\n",
              "\n",
              "      async function convertToInteractive(key) {\n",
              "        const element = document.querySelector('#df-2ff87e5b-a6d0-448c-a7f5-6d67ca024cb6');\n",
              "        const dataTable =\n",
              "          await google.colab.kernel.invokeFunction('convertToInteractive',\n",
              "                                                    [key], {});\n",
              "        if (!dataTable) return;\n",
              "\n",
              "        const docLinkHtml = 'Like what you see? Visit the ' +\n",
              "          '<a target=\"_blank\" href=https://colab.research.google.com/notebooks/data_table.ipynb>data table notebook</a>'\n",
              "          + ' to learn more about interactive tables.';\n",
              "        element.innerHTML = '';\n",
              "        dataTable['output_type'] = 'display_data';\n",
              "        await google.colab.output.renderOutput(dataTable, element);\n",
              "        const docLink = document.createElement('div');\n",
              "        docLink.innerHTML = docLinkHtml;\n",
              "        element.appendChild(docLink);\n",
              "      }\n",
              "    </script>\n",
              "  </div>\n",
              "\n",
              "\n",
              "    <div id=\"df-6b5a0a50-3d48-4cf4-81fe-d0456394dd30\">\n",
              "      <button class=\"colab-df-quickchart\" onclick=\"quickchart('df-6b5a0a50-3d48-4cf4-81fe-d0456394dd30')\"\n",
              "                title=\"Suggest charts\"\n",
              "                style=\"display:none;\">\n",
              "\n",
              "<svg xmlns=\"http://www.w3.org/2000/svg\" height=\"24px\"viewBox=\"0 0 24 24\"\n",
              "     width=\"24px\">\n",
              "    <g>\n",
              "        <path d=\"M19 3H5c-1.1 0-2 .9-2 2v14c0 1.1.9 2 2 2h14c1.1 0 2-.9 2-2V5c0-1.1-.9-2-2-2zM9 17H7v-7h2v7zm4 0h-2V7h2v10zm4 0h-2v-4h2v4z\"/>\n",
              "    </g>\n",
              "</svg>\n",
              "      </button>\n",
              "\n",
              "<style>\n",
              "  .colab-df-quickchart {\n",
              "      --bg-color: #E8F0FE;\n",
              "      --fill-color: #1967D2;\n",
              "      --hover-bg-color: #E2EBFA;\n",
              "      --hover-fill-color: #174EA6;\n",
              "      --disabled-fill-color: #AAA;\n",
              "      --disabled-bg-color: #DDD;\n",
              "  }\n",
              "\n",
              "  [theme=dark] .colab-df-quickchart {\n",
              "      --bg-color: #3B4455;\n",
              "      --fill-color: #D2E3FC;\n",
              "      --hover-bg-color: #434B5C;\n",
              "      --hover-fill-color: #FFFFFF;\n",
              "      --disabled-bg-color: #3B4455;\n",
              "      --disabled-fill-color: #666;\n",
              "  }\n",
              "\n",
              "  .colab-df-quickchart {\n",
              "    background-color: var(--bg-color);\n",
              "    border: none;\n",
              "    border-radius: 50%;\n",
              "    cursor: pointer;\n",
              "    display: none;\n",
              "    fill: var(--fill-color);\n",
              "    height: 32px;\n",
              "    padding: 0;\n",
              "    width: 32px;\n",
              "  }\n",
              "\n",
              "  .colab-df-quickchart:hover {\n",
              "    background-color: var(--hover-bg-color);\n",
              "    box-shadow: 0 1px 2px rgba(60, 64, 67, 0.3), 0 1px 3px 1px rgba(60, 64, 67, 0.15);\n",
              "    fill: var(--button-hover-fill-color);\n",
              "  }\n",
              "\n",
              "  .colab-df-quickchart-complete:disabled,\n",
              "  .colab-df-quickchart-complete:disabled:hover {\n",
              "    background-color: var(--disabled-bg-color);\n",
              "    fill: var(--disabled-fill-color);\n",
              "    box-shadow: none;\n",
              "  }\n",
              "\n",
              "  .colab-df-spinner {\n",
              "    border: 2px solid var(--fill-color);\n",
              "    border-color: transparent;\n",
              "    border-bottom-color: var(--fill-color);\n",
              "    animation:\n",
              "      spin 1s steps(1) infinite;\n",
              "  }\n",
              "\n",
              "  @keyframes spin {\n",
              "    0% {\n",
              "      border-color: transparent;\n",
              "      border-bottom-color: var(--fill-color);\n",
              "      border-left-color: var(--fill-color);\n",
              "    }\n",
              "    20% {\n",
              "      border-color: transparent;\n",
              "      border-left-color: var(--fill-color);\n",
              "      border-top-color: var(--fill-color);\n",
              "    }\n",
              "    30% {\n",
              "      border-color: transparent;\n",
              "      border-left-color: var(--fill-color);\n",
              "      border-top-color: var(--fill-color);\n",
              "      border-right-color: var(--fill-color);\n",
              "    }\n",
              "    40% {\n",
              "      border-color: transparent;\n",
              "      border-right-color: var(--fill-color);\n",
              "      border-top-color: var(--fill-color);\n",
              "    }\n",
              "    60% {\n",
              "      border-color: transparent;\n",
              "      border-right-color: var(--fill-color);\n",
              "    }\n",
              "    80% {\n",
              "      border-color: transparent;\n",
              "      border-right-color: var(--fill-color);\n",
              "      border-bottom-color: var(--fill-color);\n",
              "    }\n",
              "    90% {\n",
              "      border-color: transparent;\n",
              "      border-bottom-color: var(--fill-color);\n",
              "    }\n",
              "  }\n",
              "</style>\n",
              "\n",
              "      <script>\n",
              "        async function quickchart(key) {\n",
              "          const quickchartButtonEl =\n",
              "            document.querySelector('#' + key + ' button');\n",
              "          quickchartButtonEl.disabled = true;  // To prevent multiple clicks.\n",
              "          quickchartButtonEl.classList.add('colab-df-spinner');\n",
              "          try {\n",
              "            const charts = await google.colab.kernel.invokeFunction(\n",
              "                'suggestCharts', [key], {});\n",
              "          } catch (error) {\n",
              "            console.error('Error during call to suggestCharts:', error);\n",
              "          }\n",
              "          quickchartButtonEl.classList.remove('colab-df-spinner');\n",
              "          quickchartButtonEl.classList.add('colab-df-quickchart-complete');\n",
              "        }\n",
              "        (() => {\n",
              "          let quickchartButtonEl =\n",
              "            document.querySelector('#df-6b5a0a50-3d48-4cf4-81fe-d0456394dd30 button');\n",
              "          quickchartButtonEl.style.display =\n",
              "            google.colab.kernel.accessAllowed ? 'block' : 'none';\n",
              "        })();\n",
              "      </script>\n",
              "    </div>\n",
              "\n",
              "  <div id=\"id_83203789-df3c-4af8-8c34-e9d9cf337ca5\">\n",
              "    <style>\n",
              "      .colab-df-generate {\n",
              "        background-color: #E8F0FE;\n",
              "        border: none;\n",
              "        border-radius: 50%;\n",
              "        cursor: pointer;\n",
              "        display: none;\n",
              "        fill: #1967D2;\n",
              "        height: 32px;\n",
              "        padding: 0 0 0 0;\n",
              "        width: 32px;\n",
              "      }\n",
              "\n",
              "      .colab-df-generate:hover {\n",
              "        background-color: #E2EBFA;\n",
              "        box-shadow: 0px 1px 2px rgba(60, 64, 67, 0.3), 0px 1px 3px 1px rgba(60, 64, 67, 0.15);\n",
              "        fill: #174EA6;\n",
              "      }\n",
              "\n",
              "      [theme=dark] .colab-df-generate {\n",
              "        background-color: #3B4455;\n",
              "        fill: #D2E3FC;\n",
              "      }\n",
              "\n",
              "      [theme=dark] .colab-df-generate:hover {\n",
              "        background-color: #434B5C;\n",
              "        box-shadow: 0px 1px 3px 1px rgba(0, 0, 0, 0.15);\n",
              "        filter: drop-shadow(0px 1px 2px rgba(0, 0, 0, 0.3));\n",
              "        fill: #FFFFFF;\n",
              "      }\n",
              "    </style>\n",
              "    <button class=\"colab-df-generate\" onclick=\"generateWithVariable('df_produtos')\"\n",
              "            title=\"Generate code using this dataframe.\"\n",
              "            style=\"display:none;\">\n",
              "\n",
              "  <svg xmlns=\"http://www.w3.org/2000/svg\" height=\"24px\"viewBox=\"0 0 24 24\"\n",
              "       width=\"24px\">\n",
              "    <path d=\"M7,19H8.4L18.45,9,17,7.55,7,17.6ZM5,21V16.75L18.45,3.32a2,2,0,0,1,2.83,0l1.4,1.43a1.91,1.91,0,0,1,.58,1.4,1.91,1.91,0,0,1-.58,1.4L9.25,21ZM18.45,9,17,7.55Zm-12,3A5.31,5.31,0,0,0,4.9,8.1,5.31,5.31,0,0,0,1,6.5,5.31,5.31,0,0,0,4.9,4.9,5.31,5.31,0,0,0,6.5,1,5.31,5.31,0,0,0,8.1,4.9,5.31,5.31,0,0,0,12,6.5,5.46,5.46,0,0,0,6.5,12Z\"/>\n",
              "  </svg>\n",
              "    </button>\n",
              "    <script>\n",
              "      (() => {\n",
              "      const buttonEl =\n",
              "        document.querySelector('#id_83203789-df3c-4af8-8c34-e9d9cf337ca5 button.colab-df-generate');\n",
              "      buttonEl.style.display =\n",
              "        google.colab.kernel.accessAllowed ? 'block' : 'none';\n",
              "\n",
              "      buttonEl.onclick = () => {\n",
              "        google.colab.notebook.generateWithVariable('df_produtos');\n",
              "      }\n",
              "      })();\n",
              "    </script>\n",
              "  </div>\n",
              "\n",
              "    </div>\n",
              "  </div>\n"
            ],
            "application/vnd.google.colaboratory.intrinsic+json": {
              "type": "dataframe",
              "variable_name": "df_produtos",
              "summary": "{\n  \"name\": \"df_produtos\",\n  \"rows\": 4,\n  \"fields\": [\n    {\n      \"column\": \"produto\",\n      \"properties\": {\n        \"dtype\": \"string\",\n        \"num_unique_values\": 4,\n        \"samples\": [\n          \"Mouse\",\n          \"Monitor\",\n          \"Notebook\"\n        ],\n        \"semantic_type\": \"\",\n        \"description\": \"\"\n      }\n    },\n    {\n      \"column\": \"preco\",\n      \"properties\": {\n        \"dtype\": \"number\",\n        \"std\": 1133,\n        \"min\": 50,\n        \"max\": 2500,\n        \"num_unique_values\": 4,\n        \"samples\": [\n          50,\n          800,\n          2500\n        ],\n        \"semantic_type\": \"\",\n        \"description\": \"\"\n      }\n    },\n    {\n      \"column\": \"categoria\",\n      \"properties\": {\n        \"dtype\": \"number\",\n        \"std\": 2,\n        \"min\": 1,\n        \"max\": 7,\n        \"num_unique_values\": 4,\n        \"samples\": [\n          2,\n          7,\n          1\n        ],\n        \"semantic_type\": \"\",\n        \"description\": \"\"\n      }\n    },\n    {\n      \"column\": \"em_estoque\",\n      \"properties\": {\n        \"dtype\": \"boolean\",\n        \"num_unique_values\": 2,\n        \"samples\": [\n          false,\n          true\n        ],\n        \"semantic_type\": \"\",\n        \"description\": \"\"\n      }\n    }\n  ]\n}"
            }
          },
          "metadata": {},
          "execution_count": 26
        }
      ],
      "source": [
        "# TODO: Complete o dicionário abaixo\n",
        "dados_produtos = {\n",
        "    'produto': ['Notebook', 'Mouse', 'Teclado', 'Monitor'],\n",
        "    'preco': [2500, 50, 150, 800],\n",
        "    'categoria': [1,2,5,7],  # eu categorizei em uma numeração, digamos que a categoria tenha um id\n",
        "    'em_estoque': [True,False,False,True] # TODO: Adicione valores True/False\n",
        "}\n",
        "\n",
        "# Descomente a linha abaixo após completar o dicionário\n",
        "df_produtos = pd.DataFrame(dados_produtos)\n",
        "print(\"Tabela de produtos da loja:\")\n",
        "df_produtos"
      ]
    },
    {
      "cell_type": "markdown",
      "id": "f88d6f79-31c4-4efe-866e-f2efc8e1e07e",
      "metadata": {
        "id": "f88d6f79-31c4-4efe-866e-f2efc8e1e07e"
      },
      "source": [
        "---\n",
        "\n",
        "## 4️⃣ Outros Tipos de Dados\n",
        "\n",
        "### 💡 Conceito\n",
        "Nem todo dado cabe em uma tabela! Existem outros tipos importantes:\n",
        "\n",
        "- **Séries temporais**: dados medidos ao longo do tempo\n",
        "- **Dados espaciais**: coordenadas geográficas, mapas\n",
        "- **Redes (grafos)**: conexões e relacionamentos"
      ]
    },
    {
      "cell_type": "code",
      "execution_count": 27,
      "id": "88bb324e-c938-4366-8a2d-a08cf61c01f2",
      "metadata": {
        "colab": {
          "base_uri": "https://localhost:8080/"
        },
        "id": "88bb324e-c938-4366-8a2d-a08cf61c01f2",
        "outputId": "40a211e9-7dd5-4229-89da-cd94de18bd80"
      },
      "outputs": [
        {
          "output_type": "stream",
          "name": "stdout",
          "text": [
            "📈 Série Temporal (vendas por dia):\n",
            "  2024-01-01: 100 unidades\n",
            "  2024-01-02: 120 unidades\n",
            "  2024-01-03: 90 unidades\n",
            "  2024-01-04: 150 unidades\n"
          ]
        }
      ],
      "source": [
        "# Exemplo de série temporal simples\n",
        "datas = ['2024-01-01', '2024-01-02', '2024-01-03', '2024-01-04']\n",
        "vendas_diarias = [100, 120, 90, 150]\n",
        "\n",
        "print(\"📈 Série Temporal (vendas por dia):\")\n",
        "for data, venda in zip(datas, vendas_diarias):\n",
        "    print(f\"  {data}: {venda} unidades\")"
      ]
    },
    {
      "cell_type": "code",
      "execution_count": 29,
      "id": "6f72bf0f-ab41-47c0-a4c5-96438514ef12",
      "metadata": {
        "colab": {
          "base_uri": "https://localhost:8080/"
        },
        "id": "6f72bf0f-ab41-47c0-a4c5-96438514ef12",
        "outputId": "3e7c2bfe-974b-4125-f74b-947306e8d60a"
      },
      "outputs": [
        {
          "output_type": "stream",
          "name": "stdout",
          "text": [
            "🗺️ Dados Espaciais (coordenadas de lojas):\n",
            "  Loja Centro: (-1.4558, -48.4902)\n",
            "  Loja Norte: (-1.42, -48.45)\n",
            "  Loja Sul: (-1.48, -48.5)\n"
          ]
        }
      ],
      "source": [
        "# Exemplo de dados espaciais\n",
        "print(\"🗺️ Dados Espaciais (coordenadas de lojas):\")\n",
        "lojas_coordenadas = [\n",
        "    ('Loja Centro', -1.4558, -48.4902),\n",
        "    ('Loja Norte', -1.4200, -48.4500),\n",
        "    ('Loja Sul', -1.4800, -48.5000)\n",
        "]\n",
        "\n",
        "for nome, lat, lon in lojas_coordenadas:\n",
        "    print(f\"  {nome}: ({lat}, {lon})\")"
      ]
    },
    {
      "cell_type": "markdown",
      "id": "60ff888f-9378-4e60-81c1-e48b172e5af0",
      "metadata": {
        "id": "60ff888f-9378-4e60-81c1-e48b172e5af0"
      },
      "source": [
        "### 🏋️ Exercício 4\n",
        "Identifique o tipo de dado:"
      ]
    },
    {
      "cell_type": "code",
      "execution_count": null,
      "id": "90de3686-432d-43e9-88f6-1086e4927264",
      "metadata": {
        "id": "90de3686-432d-43e9-88f6-1086e4927264"
      },
      "outputs": [],
      "source": [
        "print(\"a) Temperaturas medidas de hora em hora: ____SÉRIES TEMPORAIS_____\")\n",
        "print(\"b) Localização GPS de delivery: ____DADOS ESPACIAIS_____\")\n",
        "print(\"c) Rede de amigos no Facebook: ____REDES_____\")\n",
        "print(\"d) Tabela de funcionários com salários: ____SERIES TEMPORAIS_____\")"
      ]
    },
    {
      "cell_type": "markdown",
      "id": "21fc2a9a-8f52-4f6c-aa9a-42dae98d2f82",
      "metadata": {
        "id": "21fc2a9a-8f52-4f6c-aa9a-42dae98d2f82"
      },
      "source": [
        "---\n",
        "\n",
        "## 5️⃣ Estimativas de Localização\n",
        "\n",
        "### 💡 Conceito\n",
        "Medidas que nos ajudam a entender onde os dados estão \"centrados\":\n",
        "\n",
        "- **Média**: soma de todos os valores ÷ número de valores\n",
        "- **Mediana**: valor do meio quando dados estão ordenados\n",
        "- **Média aparada**: média excluindo valores extremos\n",
        "- **Outlier**: valor muito diferente da maioria"
      ]
    },
    {
      "cell_type": "code",
      "execution_count": 30,
      "id": "9ea93cd8-e477-4e43-ad2c-25a335594ee0",
      "metadata": {
        "colab": {
          "base_uri": "https://localhost:8080/"
        },
        "id": "9ea93cd8-e477-4e43-ad2c-25a335594ee0",
        "outputId": "e0fe1db1-71a5-4915-f26d-2f6a5697538e"
      },
      "outputs": [
        {
          "output_type": "stream",
          "name": "stdout",
          "text": [
            "💰 Salários: [3000, 3200, 2800, 3500, 2900, 3100, 15000, 3300]\n",
            "Média: R$ 4600.00\n",
            "Mediana: R$ 3150.00\n",
            "Média Aparada: R$ 3166.67\n",
            "Salários ordenados: [2800, 2900, 3000, 3100, 3200, 3300, 3500, 15000]\n"
          ]
        }
      ],
      "source": [
        "from scipy.stats import trim_mean # Média Aparada\n",
        "\n",
        "# Dados de exemplo: salários de funcionários\n",
        "salarios = [3000, 3200, 2800, 3500, 2900, 3100, 15000, 3300]  # Note o outlier!\n",
        "salarios_series = pd.Series(salarios)\n",
        "\n",
        "print(f\"💰 Salários: {salarios}\")\n",
        "\n",
        "# Calculando diferentes medidas usando pandas\n",
        "print(f\"Média: R$ {salarios_series.mean():.2f}\")\n",
        "print(f\"Mediana: R$ {salarios_series.median():.2f}\")\n",
        "\n",
        "# Cálculo da média aparada removendo 20% dos valores (10% menores e 10% maiores)\n",
        "media_aparada = trim_mean(salarios_series, proportiontocut=0.2)\n",
        "print(f\"Média Aparada: R$ {media_aparada:.2f}\")\n",
        "\n",
        "print(f\"Salários ordenados: {sorted(salarios)}\")"
      ]
    },
    {
      "cell_type": "code",
      "execution_count": 31,
      "id": "db233e61-da4f-4b02-b37b-356124cf1635",
      "metadata": {
        "colab": {
          "base_uri": "https://localhost:8080/"
        },
        "id": "db233e61-da4f-4b02-b37b-356124cf1635",
        "outputId": "b1f0e698-10a4-4427-90e5-b961d023559b"
      },
      "outputs": [
        {
          "output_type": "stream",
          "name": "stdout",
          "text": [
            "🚨 Outlier detectado: R$ 15000 (muito diferente dos outros)\n",
            "A mediana é mais representativa que a média quando há outliers!\n"
          ]
        }
      ],
      "source": [
        "# Identificando outlier usando pandas\n",
        "print(f\"🚨 Outlier detectado: R$ {salarios_series.max()} (muito diferente dos outros)\")\n",
        "print(\"A mediana é mais representativa que a média quando há outliers!\")"
      ]
    },
    {
      "cell_type": "code",
      "source": [
        "from google.colab import drive\n",
        "drive.mount('/content/drive')"
      ],
      "metadata": {
        "id": "JHnbnvzQQqo6"
      },
      "id": "JHnbnvzQQqo6",
      "execution_count": null,
      "outputs": []
    },
    {
      "cell_type": "markdown",
      "id": "4ea00f6f-a27c-4108-b29a-1405e7553a75",
      "metadata": {
        "id": "4ea00f6f-a27c-4108-b29a-1405e7553a75"
      },
      "source": [
        "### 🏋️ Exercício 5\n",
        "Calcule as medidas para as idades:"
      ]
    },
    {
      "cell_type": "code",
      "execution_count": null,
      "id": "319027b3-0630-46b7-ac4b-aece5e1eb667",
      "metadata": {
        "id": "319027b3-0630-46b7-ac4b-aece5e1eb667"
      },
      "outputs": [],
      "source": [
        "idades = [25, 27, 23, 26, 24, 28, 45, 25, 26]  # Uma pessoa bem mais velha\n",
        "idades_series = pd.Series(idades)\n",
        "\n",
        "# TODO: Calcule a média usando pandas\n",
        "media_idade = None  # idades_series.mean()\n",
        "\n",
        "# TODO: Encontre a mediana usando pandas\n",
        "mediana_idade = None  # idades_series.median()\n",
        "\n",
        "# TODO: Identifique o outlier usando pandas\n",
        "outlier_idade = None  # idades_series.max() ou idades_series.min()\n",
        "\n",
        "# TODO: Calcule a média aparada\n",
        "media_aparada = None  # trim_mean(idades_series, proportiontocut=0.2)\n",
        "\n",
        "print(f\"Idades: {idades}\")\n",
        "print(f\"Média das idades: {media_idade}\")\n",
        "print(f\"Mediana das idades: {mediana_idade}\")\n",
        "print(f\"Média Aparada: {media_aparada}\")\n",
        "print(f\"Possível outlier: {outlier_idade}\")"
      ]
    },
    {
      "cell_type": "markdown",
      "id": "50db0e8c-93ef-49b1-b1ad-2c46bc4bf0e7",
      "metadata": {
        "id": "50db0e8c-93ef-49b1-b1ad-2c46bc4bf0e7"
      },
      "source": [
        "## 6️⃣ Exercício Final - Prática Integrada\n",
        "\n",
        "### 🎯 Desafio: Análise completa de dados de uma loja\n",
        "\n",
        "Vamos aplicar todos os conceitos aprendidos!"
      ]
    },
    {
      "cell_type": "code",
      "execution_count": null,
      "id": "71fb46f8-db31-44a1-ba0c-860592e502b1",
      "metadata": {
        "id": "71fb46f8-db31-44a1-ba0c-860592e502b1"
      },
      "outputs": [],
      "source": [
        "# Dados da loja (misturando todos os conceitos)\n",
        "dados_loja = {\n",
        "    'produto': ['Smartphone', 'Fone', 'Carregador', 'Capa', 'Tablet'],\n",
        "    'categoria': ['eletrônicos', 'acessórios', 'acessórios', 'acessórios', 'eletrônicos'],\n",
        "    'preco': [800, 120, 45, 25, 600],\n",
        "    'vendas_mes': [50, 200, 150, 300, 30],\n",
        "    'avaliacao': [4, 5, 3, 4, 5],  # 1 a 5 estrelas\n",
        "    'disponivel': [True, True, False, True, True]\n",
        "}\n",
        "\n",
        "print(\"🏪 DADOS DA LOJA:\")\n",
        "df_loja = pd.DataFrame(dados_loja)\n",
        "df_loja"
      ]
    },
    {
      "cell_type": "code",
      "execution_count": null,
      "id": "a1ff297c-8ec0-48ad-a85e-7394f7a2bf43",
      "metadata": {
        "id": "a1ff297c-8ec0-48ad-a85e-7394f7a2bf43"
      },
      "outputs": [],
      "source": [
        "print(f\"\\n📊 Resumo estatístico dos dados:\")\n",
        "df_loja.describe()"
      ]
    },
    {
      "cell_type": "markdown",
      "id": "5c3b21ea-f3ae-43e7-8016-ae8c0dc26d03",
      "metadata": {
        "id": "5c3b21ea-f3ae-43e7-8016-ae8c0dc26d03"
      },
      "source": [
        "### 📊 Exercício final:"
      ]
    },
    {
      "cell_type": "code",
      "execution_count": null,
      "id": "441c3071-29e9-4a45-be9e-14e84b1f31b0",
      "metadata": {
        "id": "441c3071-29e9-4a45-be9e-14e84b1f31b0"
      },
      "outputs": [],
      "source": [
        "# 1. Qual a média de preços dos produtos?\n",
        "media_precos = None\n",
        "\n",
        "# 2. Qual produto tem maior número de vendas?\n",
        "idx_mais_vendido = None\n",
        "produto_mais_vendido = None\n",
        "\n",
        "# 3. Quantos produtos estão disponíveis?\n",
        "produtos_disponiveis = None\n",
        "\n",
        "# 4. Qual a avaliação mediana dos produtos?\n",
        "avaliacao_mediana = None\n",
        "\n",
        "# 5. Calcule a média aparada dos preços\n",
        "media_aparada_precos = None\n",
        "\n",
        "\n",
        "print(\"Respostas:\")\n",
        "print(f\"1. Média de preços: R$ {media_precos}\")\n",
        "print(f\"2. Produto mais vendido: {produto_mais_vendido}\")\n",
        "print(f\"3. Produtos disponíveis: {produtos_disponiveis}\")\n",
        "print(f\"4. Avaliação mediana: {avaliacao_mediana}\")\n",
        "print(f\"5. Média Aparada: R$ {media_aparada_precos}\")"
      ]
    },
    {
      "cell_type": "markdown",
      "id": "405a3fa1-2941-4d57-9d44-b4048d79a334",
      "metadata": {
        "id": "405a3fa1-2941-4d57-9d44-b4048d79a334"
      },
      "source": [
        "### 💡 Recapitulando o que aprendemos:\n",
        "- ✅ **EDA**: Como explorar dados básicos\n",
        "- ✅ **Tipos de dados**: Categóricos, discretos, contínuos, binários, ordinais\n",
        "- ✅ **Dados retangulares**: DataFrames do pandas\n",
        "- ✅ **Outros tipos**: Séries temporais, dados espaciais, redes\n",
        "- ✅ **Estimativas**: Média, mediana, outliers"
      ]
    }
  ],
  "metadata": {
    "kernelspec": {
      "display_name": "Python 3 (ipykernel)",
      "language": "python",
      "name": "python3"
    },
    "language_info": {
      "codemirror_mode": {
        "name": "ipython",
        "version": 3
      },
      "file_extension": ".py",
      "mimetype": "text/x-python",
      "name": "python",
      "nbconvert_exporter": "python",
      "pygments_lexer": "ipython3",
      "version": "3.13.1"
    },
    "colab": {
      "provenance": [],
      "toc_visible": true,
      "include_colab_link": true
    }
  },
  "nbformat": 4,
  "nbformat_minor": 5
}